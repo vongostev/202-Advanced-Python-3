{
 "cells": [
  {
   "cell_type": "code",
   "execution_count": 1,
   "id": "3fd4c497",
   "metadata": {},
   "outputs": [],
   "source": [
    "import sympy as sp\n",
    "from IPython.display import display"
   ]
  },
  {
   "cell_type": "code",
   "execution_count": 2,
   "id": "9eb38f1b",
   "metadata": {},
   "outputs": [],
   "source": [
    "with open(\"test.tex\") as f:\n",
    "    doc = f.read()"
   ]
  },
  {
   "cell_type": "code",
   "execution_count": 3,
   "id": "d67fbbcb",
   "metadata": {},
   "outputs": [],
   "source": [
    "funcs = []\n",
    "\n",
    "def parse_equation(text):\n",
    "    formula = ''.join(text.split())\n",
    "    formula = formula.replace(\"\\\\\", \"\")\n",
    "    \n",
    "    if formula.find(\"=\") == -1:\n",
    "        return [sp.sympify(formula)]\n",
    "   \n",
    "    idx = formula.find(\"=\")\n",
    "    return [sp.sympify(formula[:idx]), sp.sympify(formula[idx + 1:])]"
   ]
  },
  {
   "cell_type": "code",
   "execution_count": 4,
   "id": "4989be6a",
   "metadata": {},
   "outputs": [],
   "source": [
    "text = doc\n",
    "\n",
    "begin = \"begin{equation}\"\n",
    "end = \"\\end{equation}\"\n",
    "\n",
    "while text.find(begin) != -1:\n",
    "    start = text.find(begin) + len(begin)\n",
    "    l = text[start:].find(end)\n",
    "    \n",
    "    funcs += parse_equation(text[start: start + l])\n",
    "\n",
    "    text = text[start + l + len(end):]"
   ]
  },
  {
   "cell_type": "code",
   "execution_count": 5,
   "id": "006d61cb",
   "metadata": {},
   "outputs": [],
   "source": [
    "text = doc\n",
    "\n",
    "sub = \"$\"\n",
    "while text.find(sub) != -1:\n",
    "    if text[text.find(sub):].startswith(\"$$\"):\n",
    "        sub = \"$$\"\n",
    "    \n",
    "    start = text.find(sub) + len(sub)\n",
    "    l = text[start:].find(sub)\n",
    "    \n",
    "    funcs += parse_equation(text[start: start + l])\n",
    "\n",
    "    text = text[start + l + len(sub):]\n",
    "    sub = \"$\""
   ]
  },
  {
   "cell_type": "code",
   "execution_count": 6,
   "id": "fbe3ca7c",
   "metadata": {},
   "outputs": [
    {
     "data": {
      "text/latex": [
       "$\\displaystyle 0$"
      ],
      "text/plain": [
       "0"
      ]
     },
     "metadata": {},
     "output_type": "display_data"
    },
    {
     "data": {
      "text/latex": [
       "$\\displaystyle - c^{4} m^{2} - c^{2} \\left(\\frac{A e}{c} + p\\right)^{2} + \\left(H + e\\right)^{2}$"
      ],
      "text/plain": [
       "-c**4*m**2 - c**2*(A*e/c + p)**2 + (H + e)**2"
      ]
     },
     "metadata": {},
     "output_type": "display_data"
    },
    {
     "data": {
      "text/latex": [
       "$\\displaystyle b$"
      ],
      "text/plain": [
       "b"
      ]
     },
     "metadata": {},
     "output_type": "display_data"
    },
    {
     "data": {
      "text/latex": [
       "$\\displaystyle a + c y + g + t$"
      ],
      "text/plain": [
       "a + c*y + g + t"
      ]
     },
     "metadata": {},
     "output_type": "display_data"
    },
    {
     "data": {
      "text/latex": [
       "$\\displaystyle y$"
      ],
      "text/plain": [
       "y"
      ]
     },
     "metadata": {},
     "output_type": "display_data"
    },
    {
     "data": {
      "text/latex": [
       "$\\displaystyle a x + b$"
      ],
      "text/plain": [
       "a*x + b"
      ]
     },
     "metadata": {},
     "output_type": "display_data"
    },
    {
     "data": {
      "text/latex": [
       "$\\displaystyle q$"
      ],
      "text/plain": [
       "q"
      ]
     },
     "metadata": {},
     "output_type": "display_data"
    },
    {
     "data": {
      "text/latex": [
       "$\\displaystyle - e^{2} r + e w + 1000$"
      ],
      "text/plain": [
       "-e**2*r + e*w + 1000"
      ]
     },
     "metadata": {},
     "output_type": "display_data"
    },
    {
     "data": {
      "text/latex": [
       "$\\displaystyle x$"
      ],
      "text/plain": [
       "x"
      ]
     },
     "metadata": {},
     "output_type": "display_data"
    },
    {
     "data": {
      "text/latex": [
       "$\\displaystyle a + b y$"
      ],
      "text/plain": [
       "a + b*y"
      ]
     },
     "metadata": {},
     "output_type": "display_data"
    },
    {
     "data": {
      "text/latex": [
       "$\\displaystyle n$"
      ],
      "text/plain": [
       "n"
      ]
     },
     "metadata": {},
     "output_type": "display_data"
    },
    {
     "data": {
      "text/latex": [
       "$\\displaystyle b n + v$"
      ],
      "text/plain": [
       "b*n + v"
      ]
     },
     "metadata": {},
     "output_type": "display_data"
    },
    {
     "data": {
      "text/latex": [
       "$\\displaystyle h$"
      ],
      "text/plain": [
       "h"
      ]
     },
     "metadata": {},
     "output_type": "display_data"
    },
    {
     "data": {
      "text/latex": [
       "$\\displaystyle i^{2} + k$"
      ],
      "text/plain": [
       "i**2 + k"
      ]
     },
     "metadata": {},
     "output_type": "display_data"
    },
    {
     "data": {
      "text/latex": [
       "$\\displaystyle j$"
      ],
      "text/plain": [
       "j"
      ]
     },
     "metadata": {},
     "output_type": "display_data"
    },
    {
     "data": {
      "text/latex": [
       "$\\displaystyle k + y^{2}$"
      ],
      "text/plain": [
       "k + y**2"
      ]
     },
     "metadata": {},
     "output_type": "display_data"
    },
    {
     "data": {
      "text/latex": [
       "$\\displaystyle n$"
      ],
      "text/plain": [
       "n"
      ]
     },
     "metadata": {},
     "output_type": "display_data"
    },
    {
     "data": {
      "text/latex": [
       "$\\displaystyle \\phi + y$"
      ],
      "text/plain": [
       "phi + y"
      ]
     },
     "metadata": {},
     "output_type": "display_data"
    }
   ],
   "source": [
    "for func in funcs:\n",
    "    display(func)"
   ]
  }
 ],
 "metadata": {
  "kernelspec": {
   "display_name": "Python 3 (ipykernel)",
   "language": "python",
   "name": "python3"
  },
  "language_info": {
   "codemirror_mode": {
    "name": "ipython",
    "version": 3
   },
   "file_extension": ".py",
   "mimetype": "text/x-python",
   "name": "python",
   "nbconvert_exporter": "python",
   "pygments_lexer": "ipython3",
   "version": "3.9.7"
  }
 },
 "nbformat": 4,
 "nbformat_minor": 5
}
