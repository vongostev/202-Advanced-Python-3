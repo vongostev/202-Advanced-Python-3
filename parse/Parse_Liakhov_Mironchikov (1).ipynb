{
  "nbformat": 4,
  "nbformat_minor": 0,
  "metadata": {
    "colab": {
      "name": "Parse_Liakhov_Mironchikov.ipynb",
      "provenance": []
    },
    "kernelspec": {
      "name": "python3",
      "display_name": "Python 3"
    },
    "language_info": {
      "name": "python"
    }
  },
  "cells": [
    {
      "cell_type": "code",
      "execution_count": 8,
      "metadata": {
        "id": "_D797G5ZS_I2"
      },
      "outputs": [],
      "source": [
        "#Это делал Мирончиков\n",
        "import sympy as sp\n",
        "from IPython.display import display\n",
        "\n",
        "with open(\"test.tex\") as f:\n",
        "    doc = f.read()\n",
        "  \n",
        "funcs = []\n",
        "\n",
        "def parse(text):\n",
        "    formula = ''.join(text.split())\n",
        "    formula = formula.replace(\"\\\\\", \"\")\n",
        "    \n",
        "    if formula.find(\"=\") == -1:\n",
        "        return [sp.sympify(formula)]\n",
        "   \n",
        "    idx = formula.find(\"=\")\n",
        "    return [sp.sympify(formula[:idx]), sp.sympify(formula[idx + 1:])]"
      ]
    },
    {
      "cell_type": "code",
      "source": [
        "#Это делал Ляхов\n",
        "text = doc\n",
        "\n",
        "begin = \"begin{equation}\"\n",
        "end = \"\\end{equation}\"\n",
        "\n",
        "while text.find(begin) != -1:\n",
        "    start = text.find(begin) + len(begin)\n",
        "    l = text[start:].find(end)\n",
        "    \n",
        "    funcs += parse(text[start: start + l])\n",
        "\n",
        "    text = text[start + l + len(end):]\n",
        "\n",
        "text = doc\n",
        "\n",
        "sub = \"$\"\n",
        "while text.find(sub) != -1:\n",
        "    if text[text.find(sub):].startswith(\"$$\"):\n",
        "        sub = \"$$\"\n",
        "    \n",
        "    start = text.find(sub) + len(sub)\n",
        "    l = text[start:].find(sub)\n",
        "    \n",
        "    funcs += parse(text[start: start + l])\n",
        "\n",
        "    text = text[start + l + len(sub):]\n",
        "    sub = \"$\""
      ],
      "metadata": {
        "id": "qjNo34_fXZoT"
      },
      "execution_count": 9,
      "outputs": []
    },
    {
      "cell_type": "code",
      "source": [
        "#Это запустил Мирончиков\n",
        "if __name__ == \"__main__\":\n",
        "  for func in funcs:\n",
        "      display(func)"
      ],
      "metadata": {
        "id": "6T4hdxHXXHnl"
      },
      "execution_count": null,
      "outputs": []
    }
  ]
}